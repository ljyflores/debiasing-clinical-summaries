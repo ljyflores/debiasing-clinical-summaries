{
 "cells": [
  {
   "cell_type": "code",
   "execution_count": 2,
   "metadata": {},
   "outputs": [],
   "source": [
    "import pandas as pd\n",
    "import numpy as np\n",
    "import random\n",
    "from scipy.stats import bernoulli\n",
    "from sklearn.model_selection import train_test_split\n",
    "import itertools\n",
    "\n",
    "import matplotlib.pyplot as plt\n",
    "from scipy.stats import percentileofscore\n",
    "\n",
    "import torch\n",
    "from torch import nn\n",
    "from torch.utils.data import DataLoader\n",
    "from torch.optim import AdamW\n",
    "\n",
    "from transformers import (T5ForConditionalGeneration,\n",
    "                          T5Tokenizer)\n",
    "from datasets import Dataset\n",
    "\n",
    "device = torch.device(\"cuda:1\")\n",
    "random.seed(42)"
   ]
  },
  {
   "cell_type": "code",
   "execution_count": 3,
   "metadata": {},
   "outputs": [],
   "source": [
    "df = pd.read_csv('data/preprocessed.csv', lineterminator='\\n')\n",
    "\n",
    "df = df.sort_values(by=['SUBJECT_ID','HADM_ID','CHARTDATE'])\\\n",
    "                .groupby(['SUBJECT_ID','HADM_ID'])\\\n",
    "                .head(1)\n",
    "df = df[['SUBJECT_ID','ETHNICITY',\n",
    "         'DIAGNOSIS','TEXT','apsiii']].reset_index(drop=True)\n",
    "                \n",
    "idx_white = random.sample(list(df.loc[df.ETHNICITY=='WHITE'].index), \n",
    "              df.loc[df.ETHNICITY=='BLACK'].shape[0])\n",
    "df = pd.concat([df.loc[idx_white], \n",
    "                df.loc[df.ETHNICITY=='BLACK']]).reset_index(drop=True)\n",
    "\n",
    "dataset = Dataset.from_pandas(df, split='train')\n",
    "dataloader = DataLoader(dataset, batch_size=16)\n",
    "\n"
   ]
  },
  {
   "cell_type": "code",
   "execution_count": 4,
   "metadata": {},
   "outputs": [],
   "source": [
    "# Load debiased GAN, only keep the encoder\n",
    "model = T5ForConditionalGeneration.from_pretrained(\"results/gan/model-1-final\")\n",
    "model_enc = model.encoder\n",
    "del model\n",
    "model_enc.to(device)\n",
    "\n",
    "tokenizer = T5Tokenizer.from_pretrained(\"t5-small\",\n",
    "                                            output_scores=True,\n",
    "                                            output_hidden_states=True,\n",
    "                                            model_max_length=512)"
   ]
  },
  {
   "cell_type": "code",
   "execution_count": 8,
   "metadata": {},
   "outputs": [],
   "source": [
    "def encode(examples, tokenizer):\n",
    "    inputs = examples['TEXT']  \n",
    "    tokenized_inputs = tokenizer(inputs,\n",
    "                                 return_tensors='pt',\n",
    "                                 max_length=512,\n",
    "                                 truncation=True,\n",
    "                                 padding=True)\n",
    "    model_inputs = {}\n",
    "    model_inputs['input_ids']      = tokenized_inputs['input_ids']\n",
    "    model_inputs['attention_mask'] = tokenized_inputs['attention_mask']\n",
    "    return model_inputs, examples['ETHNICITY'], examples['apsiii']\n"
   ]
  },
  {
   "cell_type": "code",
   "execution_count": 14,
   "metadata": {},
   "outputs": [],
   "source": [
    "def evaluate(model, dataloader, tokenizer):\n",
    "    result = []\n",
    "    race_lst = []\n",
    "    apsiii_lst = []\n",
    "    with torch.no_grad():\n",
    "        for batch in dataloader:\n",
    "            inputs, race, apsiii = encode(batch, tokenizer)\n",
    "            output = model(input_ids      = inputs['input_ids'].to(device),\n",
    "                           attention_mask = inputs['attention_mask'].to(device))\n",
    "            result.append(output.last_hidden_state.cpu())\n",
    "            race_lst.append(race)\n",
    "            apsiii_lst.append(apsiii)\n",
    "    return result, race_lst, apsiii_lst\n"
   ]
  },
  {
   "cell_type": "code",
   "execution_count": 15,
   "metadata": {},
   "outputs": [],
   "source": [
    "result, race_lst, apsiii_lst = evaluate(model_enc, dataloader, tokenizer)"
   ]
  },
  {
   "cell_type": "code",
   "execution_count": 16,
   "metadata": {},
   "outputs": [],
   "source": [
    "result = torch.vstack(result)\n",
    "race_lst = list(itertools.chain.from_iterable(race_lst))\n",
    "apsiii_lst = torch.cat(apsiii_lst).numpy()\n",
    "result_mean = result.mean(dim=1)"
   ]
  },
  {
   "cell_type": "code",
   "execution_count": 17,
   "metadata": {},
   "outputs": [],
   "source": [
    "idx_white, idx_black = np.where(np.array(race_lst)=='WHITE')[0], np.where(np.array(race_lst)=='BLACK')[0]"
   ]
  },
  {
   "cell_type": "code",
   "execution_count": 18,
   "metadata": {},
   "outputs": [],
   "source": [
    "from sklearn.metrics.pairwise import cosine_similarity"
   ]
  },
  {
   "cell_type": "code",
   "execution_count": 19,
   "metadata": {},
   "outputs": [],
   "source": [
    "cs_white = cosine_similarity(result_mean[idx_white].numpy(),\n",
    "                             result_mean[idx_white].numpy())\n",
    "white_vals = cs_white[np.triu_indices(cs_white.shape[0])]\n",
    "\n",
    "cs_black = cosine_similarity(result_mean[idx_black].numpy(),\n",
    "                             result_mean[idx_black].numpy())\n",
    "black_vals = cs_black[np.triu_indices(cs_black.shape[0])]"
   ]
  },
  {
   "cell_type": "code",
   "execution_count": 20,
   "metadata": {},
   "outputs": [],
   "source": [
    "cs_mix = cosine_similarity(result_mean[idx_white].numpy(),\n",
    "                           result_mean[idx_black].numpy())\n",
    "mix_vals = cs_mix.flatten()"
   ]
  },
  {
   "cell_type": "code",
   "execution_count": 21,
   "metadata": {},
   "outputs": [
    {
     "data": {
      "text/plain": [
       "(array([6.000000e+00, 1.400000e+01, 1.180000e+02, 3.650000e+02,\n",
       "        9.440000e+02, 2.110000e+03, 4.115000e+03, 7.664000e+03,\n",
       "        1.380900e+04, 2.272200e+04, 3.485200e+04, 4.812300e+04,\n",
       "        6.346000e+04, 7.743600e+04, 9.160300e+04, 1.040220e+05,\n",
       "        1.148580e+05, 1.260390e+05, 1.354120e+05, 1.457850e+05,\n",
       "        1.545290e+05, 1.614160e+05, 1.692850e+05, 1.749930e+05,\n",
       "        1.821830e+05, 1.876120e+05, 1.953660e+05, 2.038510e+05,\n",
       "        2.121520e+05, 2.210170e+05, 2.277360e+05, 2.340520e+05,\n",
       "        2.372030e+05, 2.416740e+05, 2.467580e+05, 2.564710e+05,\n",
       "        2.689030e+05, 2.886770e+05, 3.156770e+05, 3.547550e+05,\n",
       "        4.093010e+05, 4.926000e+05, 6.109500e+05, 8.124290e+05,\n",
       "        1.229687e+06, 2.139222e+06, 3.424637e+06, 2.458517e+06,\n",
       "        2.051020e+05, 1.619400e+04]),\n",
       " array([0.03442814, 0.05373959, 0.07305104, 0.09236249, 0.11167394,\n",
       "        0.1309854 , 0.15029685, 0.1696083 , 0.18891975, 0.2082312 ,\n",
       "        0.22754265, 0.24685411, 0.26616555, 0.285477  , 0.30478847,\n",
       "        0.3240999 , 0.34341136, 0.3627228 , 0.38203427, 0.40134573,\n",
       "        0.42065716, 0.43996862, 0.45928007, 0.47859153, 0.497903  ,\n",
       "        0.5172144 , 0.5365259 , 0.55583733, 0.57514876, 0.59446025,\n",
       "        0.6137717 , 0.63308316, 0.6523946 , 0.671706  , 0.6910175 ,\n",
       "        0.71032894, 0.72964036, 0.74895185, 0.7682633 , 0.78757477,\n",
       "        0.8068862 , 0.8261976 , 0.8455091 , 0.86482054, 0.884132  ,\n",
       "        0.90344346, 0.9227549 , 0.9420664 , 0.9613778 , 0.9806893 ,\n",
       "        1.0000007 ], dtype=float32),\n",
       " <BarContainer object of 50 artists>)"
      ]
     },
     "execution_count": 21,
     "metadata": {},
     "output_type": "execute_result"
    },
    {
     "data": {
      "image/png": "[encoded data removed]",
      "text/plain": [
       "<Figure size 432x288 with 1 Axes>"
      ]
     },
     "metadata": {
      "needs_background": "light"
     },
     "output_type": "display_data"
    }
   ],
   "source": [
    "plt.hist(np.concatenate([white_vals, black_vals]), alpha=0.5, bins=50)"
   ]
  },
  {
   "cell_type": "code",
   "execution_count": 22,
   "metadata": {},
   "outputs": [
    {
     "data": {
      "text/plain": [
       "(array([6.000000e+00, 2.300000e+01, 1.000000e+02, 3.440000e+02,\n",
       "        1.018000e+03, 2.087000e+03, 4.066000e+03, 7.673000e+03,\n",
       "        1.385900e+04, 2.295100e+04, 3.443800e+04, 4.842700e+04,\n",
       "        6.300200e+04, 7.824400e+04, 9.168400e+04, 1.035300e+05,\n",
       "        1.152850e+05, 1.263540e+05, 1.357870e+05, 1.452790e+05,\n",
       "        1.547680e+05, 1.625150e+05, 1.698730e+05, 1.751170e+05,\n",
       "        1.817920e+05, 1.880840e+05, 1.957890e+05, 2.040000e+05,\n",
       "        2.116570e+05, 2.206480e+05, 2.280610e+05, 2.334160e+05,\n",
       "        2.376270e+05, 2.419900e+05, 2.470130e+05, 2.555080e+05,\n",
       "        2.689050e+05, 2.890870e+05, 3.163960e+05, 3.544820e+05,\n",
       "        4.112750e+05, 4.925870e+05, 6.105310e+05, 8.140070e+05,\n",
       "        1.231968e+06, 2.140767e+06, 3.435274e+06, 2.447022e+06,\n",
       "        2.003890e+05, 7.539000e+03]),\n",
       " array([0.03459753, 0.05390557, 0.07321361, 0.09252165, 0.1118297 ,\n",
       "        0.13113774, 0.15044577, 0.16975382, 0.18906187, 0.20836991,\n",
       "        0.22767796, 0.24698599, 0.26629403, 0.28560206, 0.30491012,\n",
       "        0.32421815, 0.3435262 , 0.36283424, 0.38214228, 0.40145034,\n",
       "        0.42075837, 0.44006643, 0.45937446, 0.4786825 , 0.49799055,\n",
       "        0.5172986 , 0.5366066 , 0.55591464, 0.57522273, 0.59453076,\n",
       "        0.6138388 , 0.6331468 , 0.65245485, 0.67176294, 0.691071  ,\n",
       "        0.710379  , 0.72968704, 0.74899507, 0.76830316, 0.7876112 ,\n",
       "        0.8069192 , 0.82622725, 0.8455353 , 0.86484337, 0.8841514 ,\n",
       "        0.9034594 , 0.92276746, 0.9420755 , 0.9613836 , 0.9806916 ,\n",
       "        0.99999964], dtype=float32),\n",
       " <BarContainer object of 50 artists>)"
      ]
     },
     "execution_count": 22,
     "metadata": {},
     "output_type": "execute_result"
    },
    {
     "data": {
      "image/png": "[encoded data removed]",
      "text/plain": [
       "<Figure size 432x288 with 1 Axes>"
      ]
     },
     "metadata": {
      "needs_background": "light"
     },
     "output_type": "display_data"
    }
   ],
   "source": [
    "plt.hist(mix_vals, alpha=0.5, bins=50)"
   ]
  },
  {
   "cell_type": "code",
   "execution_count": 23,
   "metadata": {},
   "outputs": [],
   "source": [
    "from scipy.spatial.distance import pdist"
   ]
  },
  {
   "cell_type": "code",
   "execution_count": 24,
   "metadata": {},
   "outputs": [],
   "source": [
    "\n",
    "\n",
    "dist_apsiii_all = np.abs(apsiii_lst - apsiii_lst[:, None])\n",
    "dist_cs_all = cosine_similarity(result_mean.numpy(), result_mean.numpy())\n",
    "\n",
    "dist_apsiii_all = dist_apsiii_all[np.triu_indices(dist_apsiii_all.shape[0])]\n",
    "dist_cs_all     = dist_cs_all[np.triu_indices(dist_cs_all.shape[0])]"
   ]
  },
  {
   "cell_type": "code",
   "execution_count": 25,
   "metadata": {},
   "outputs": [],
   "source": [
    "idx = random.sample(range(len(dist_cs_all)), 10000)\n",
    "\n"
   ]
  },
  {
   "cell_type": "code",
   "execution_count": 26,
   "metadata": {},
   "outputs": [
    {
     "data": {
      "text/plain": [
       "array([[ 1.        , -0.01629392],\n",
       "       [-0.01629392,  1.        ]])"
      ]
     },
     "execution_count": 26,
     "metadata": {},
     "output_type": "execute_result"
    }
   ],
   "source": [
    "np.corrcoef(dist_apsiii_all, dist_cs_all)"
   ]
  },
  {
   "cell_type": "code",
   "execution_count": 27,
   "metadata": {},
   "outputs": [
    {
     "data": {
      "text/plain": [
       "<matplotlib.collections.PathCollection at 0x7fdef421ed30>"
      ]
     },
     "execution_count": 27,
     "metadata": {},
     "output_type": "execute_result"
    },
    {
     "data": {
      "image/png": "[encoded data removed]",
      "text/plain": [
       "<Figure size 432x288 with 1 Axes>"
      ]
     },
     "metadata": {
      "needs_background": "light"
     },
     "output_type": "display_data"
    }
   ],
   "source": [
    "plt.scatter(dist_apsiii_all[idx], dist_cs_all[idx])"
   ]
  },
  {
   "cell_type": "code",
   "execution_count": null,
   "metadata": {},
   "outputs": [],
   "source": []
  }
 ],
 "metadata": {
  "kernelspec": {
   "display_name": "Python 3.9.5 ('base': conda)",
   "language": "python",
   "name": "python3"
  },
  "language_info": {
   "codemirror_mode": {
    "name": "ipython",
    "version": 3
   },
   "file_extension": ".py",
   "mimetype": "text/x-python",
   "name": "python",
   "nbconvert_exporter": "python",
   "pygments_lexer": "ipython3",
   "version": "3.9.5"
  },
  "orig_nbformat": 4,
  "vscode": {
   "interpreter": {
    "hash": "0d78cf5354c54536ee2fe2974b55665bb4fd5d446126f0c5d0792c4750b1da66"
   }
  }
 },
 "nbformat": 4,
 "nbformat_minor": 2
}
