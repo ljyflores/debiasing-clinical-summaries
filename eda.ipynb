{
 "cells": [
  {
   "cell_type": "code",
   "execution_count": 6,
   "metadata": {},
   "outputs": [],
   "source": [
    "import pandas as pd\n",
    "import numpy as np\n",
    "\n",
    "from sklearn.feature_extraction.text import CountVectorizer\n",
    "from sklearn.linear_model import LogisticRegression, LinearRegression\n",
    "from sklearn.preprocessing import StandardScaler, OneHotEncoder\n",
    "from sklearn.model_selection import train_test_split\n",
    "from sklearn.metrics import roc_auc_score, mean_squared_error\n",
    "from sklearn.ensemble import RandomForestClassifier, RandomForestRegressor\n",
    "\n",
    "from imblearn.over_sampling import SMOTE\n",
    "\n",
    "from transformers import DataCollatorWithPadding\n",
    "from transformers import AutoModelForSequenceClassification, TrainingArguments, Trainer\n",
    "from transformers import AutoTokenizer\n",
    "\n",
    "import shap\n",
    "\n",
    "from utils import acc_balanced, mse_balanced"
   ]
  },
  {
   "cell_type": "code",
   "execution_count": 2,
   "metadata": {},
   "outputs": [],
   "source": [
    "df = pd.read_csv('data/preprocessed.csv', lineterminator='\\n')"
   ]
  },
  {
   "cell_type": "markdown",
   "metadata": {},
   "source": [
    "## Predicting Race/APSII from Notes\n",
    "### Classification (Race)"
   ]
  },
  {
   "cell_type": "code",
   "execution_count": 3,
   "metadata": {},
   "outputs": [],
   "source": [
    "vectorizer = CountVectorizer()\n",
    "X = vectorizer.fit_transform(df['TEXT'])\n",
    "y = 1*(df['ETHNICITY']=='BLACK')\n",
    "\n",
    "scaler = StandardScaler(with_mean=False)\n",
    "X = scaler.fit_transform(X)\n",
    "\n",
    "X_train, X_test, y_train, y_test = train_test_split(X, y, test_size=0.2, random_state=42)"
   ]
  },
  {
   "cell_type": "code",
   "execution_count": 8,
   "metadata": {},
   "outputs": [
    {
     "name": "stderr",
     "output_type": "stream",
     "text": [
      "lbfgs failed to converge (status=1):\n",
      "STOP: TOTAL NO. of ITERATIONS REACHED LIMIT.\n",
      "\n",
      "Increase the number of iterations (max_iter) or scale the data as shown in:\n",
      "    https://scikit-learn.org/stable/modules/preprocessing.html\n",
      "Please also refer to the documentation for alternative solver options:\n",
      "    https://scikit-learn.org/stable/modules/linear_model.html#logistic-regression\n"
     ]
    }
   ],
   "source": [
    "clf = LogisticRegression(random_state=0, \n",
    "                         max_iter=100, \n",
    "                         penalty='l2',\n",
    "                         class_weight='balanced').fit(X_train, y_train)"
   ]
  },
  {
   "cell_type": "code",
   "execution_count": 21,
   "metadata": {},
   "outputs": [],
   "source": [
    "logreg_coef_lst = list(zip(list(vectorizer.get_feature_names_out()), list(clf.coef_[0])))\n",
    "logreg_coef_lst = sorted(logreg_coef_lst, key=lambda x: -x[1])"
   ]
  },
  {
   "cell_type": "code",
   "execution_count": 27,
   "metadata": {},
   "outputs": [
    {
     "data": {
      "text/plain": [
       "[('4233', 0.3316337154927785),\n",
       " ('gsw', 0.3043980445695834),\n",
       " ('haitian', 0.2836621604108215),\n",
       " ('esrd', 0.28067627682615526),\n",
       " ('sickle', 0.2639422010568879),\n",
       " ('relapsed', 0.26380616030012805),\n",
       " ('hd', 0.2626747400479761),\n",
       " ('g6pd', 0.24788482135534248),\n",
       " ('dronedarone', 0.2314523989506795),\n",
       " ('fibroids', 0.213076461707557),\n",
       " ('dismal', 0.20471126224815475),\n",
       " ('failure', 0.20254201470300548),\n",
       " ('formalin', 0.18967202348104958),\n",
       " ('14503', 0.18717580165352712),\n",
       " ('cocaine', 0.1852745461846615),\n",
       " ('mom', 0.18457616078775763),\n",
       " ('laminotomy', 0.1835690369518447),\n",
       " ('she', 0.17907132221798627),\n",
       " ('thrombotic', 0.17887742123307473),\n",
       " ('htn', 0.1785499676292473)]"
      ]
     },
     "execution_count": 27,
     "metadata": {},
     "output_type": "execute_result"
    }
   ],
   "source": [
    "logreg_coef_lst[:20]"
   ]
  },
  {
   "cell_type": "code",
   "execution_count": 26,
   "metadata": {},
   "outputs": [
    {
     "data": {
      "text/plain": [
       "[('russian', -0.6954018939852876),\n",
       " ('osh', -0.4296643940987133),\n",
       " ('cholangitis', -0.35642259653902936),\n",
       " ('inflicted', -0.3090761367262856),\n",
       " ('wife', -0.2891765680289175),\n",
       " ('melanoma', -0.2879477092478057),\n",
       " ('bypass', -0.28734631590433074),\n",
       " ('cml', -0.2779768254808201),\n",
       " ('eccymotic', -0.2749831943821543),\n",
       " ('cll', -0.2747479784870075),\n",
       " ('squamous', -0.2607840969953475),\n",
       " ('afib', -0.26030160099975075),\n",
       " ('ercp', -0.25908830230901075),\n",
       " ('cea', -0.24654476229389274),\n",
       " ('mottled', -0.24360120961218246),\n",
       " ('sotalol', -0.23710988374160907),\n",
       " ('impaction', -0.23671724732391874),\n",
       " ('aortic', -0.2354627395002561),\n",
       " ('revascularization', -0.23155939231270717),\n",
       " ('coccyx', -0.22690384836739833)]"
      ]
     },
     "execution_count": 26,
     "metadata": {},
     "output_type": "execute_result"
    }
   ],
   "source": [
    "logreg_coef_lst[-20:][::-1]"
   ]
  },
  {
   "cell_type": "code",
   "execution_count": 28,
   "metadata": {},
   "outputs": [
    {
     "name": "stdout",
     "output_type": "stream",
     "text": [
      "Acc 1: 0.8954014079958664, Acc 0: 0.8561647142898531, Acc Avg: 0.8757830611428598\n",
      "Acc 1: 0.6057825484764543, Acc 0: 0.804342371900029, Acc Avg: 0.7050624601882416\n"
     ]
    }
   ],
   "source": [
    "# LR: Acc\n",
    "# Acc 1: 0.8954014079958664, Acc 0: 0.8561647142898531, Acc Avg: 0.8757830611428598\n",
    "# Acc 1: 0.6057825484764543, Acc 0: 0.804342371900029, Acc Avg: 0.7050624601882416\n",
    "acc_balanced(clf.predict(X_train), y_train)\n",
    "acc_balanced(clf.predict(X_test), y_test)"
   ]
  },
  {
   "cell_type": "code",
   "execution_count": 29,
   "metadata": {},
   "outputs": [
    {
     "name": "stderr",
     "output_type": "stream",
     "text": [
      "np.matrix usage is deprecated in 1.0 and will raise a TypeError in 1.2. Please convert to a numpy array with np.asarray. For more information see: https://numpy.org/doc/stable/reference/generated/numpy.matrix.html\n"
     ]
    },
    {
     "data": {
      "text/plain": [
       "0.7698727775555061"
      ]
     },
     "execution_count": 29,
     "metadata": {},
     "output_type": "execute_result"
    }
   ],
   "source": [
    "# LR: ROC-AUC: 0.7698727769986204\n",
    "enc = OneHotEncoder(handle_unknown='ignore')\n",
    "y_test_ohe = enc.fit_transform(np.array(y_test).reshape(-1,1)).todense()\n",
    "roc_auc_score(y_test_ohe, clf.predict_proba(X_test))"
   ]
  },
  {
   "cell_type": "code",
   "execution_count": 30,
   "metadata": {},
   "outputs": [],
   "source": [
    "X_train, y_train = SMOTE().fit_resample(X_train, y_train)\n",
    "X_test,  y_test  = SMOTE().fit_resample(X_test,  y_test)"
   ]
  },
  {
   "cell_type": "code",
   "execution_count": 46,
   "metadata": {},
   "outputs": [
    {
     "name": "stdout",
     "output_type": "stream",
     "text": [
      "Acc 1: 0.8116704812858325, Acc 0: 0.5856518813959253, Acc Avg: 0.698661181340879\n",
      "Acc 1: 0.8653929042426581, Acc 0: 0.582971469008331, Acc Avg: 0.7241821866254945\n"
     ]
    }
   ],
   "source": [
    "# Rf Acc\n",
    "# Acc 1: 0.8101832626743538, Acc 0: 0.5874384751824419, Acc Avg: 0.6988108689283978\n",
    "# Acc 1: 0.8656695294155489, Acc 0: 0.5849593103670109, Acc Avg: 0.7253144198912799\n",
    "clf = RandomForestClassifier(n_estimators=50, max_depth=4, random_state=0)\n",
    "clf.fit(X_train, y_train)\n",
    "\n",
    "acc_balanced(clf.predict(X_train), y_train)\n",
    "acc_balanced(clf.predict(X_test), y_test)"
   ]
  },
  {
   "cell_type": "code",
   "execution_count": 47,
   "metadata": {},
   "outputs": [
    {
     "name": "stderr",
     "output_type": "stream",
     "text": [
      "np.matrix usage is deprecated in 1.0 and will raise a TypeError in 1.2. Please convert to a numpy array with np.asarray. For more information see: https://numpy.org/doc/stable/reference/generated/numpy.matrix.html\n"
     ]
    },
    {
     "data": {
      "text/plain": [
       "0.8395741576391722"
      ]
     },
     "execution_count": 47,
     "metadata": {},
     "output_type": "execute_result"
    }
   ],
   "source": [
    "# RF ROC-AUC: 0.8448827558552359\n",
    "enc = OneHotEncoder(handle_unknown='ignore')\n",
    "y_test_ohe = enc.fit_transform(np.array(y_test).reshape(-1,1)).todense()\n",
    "roc_auc_score(y_test_ohe, clf.predict_proba(X_test))"
   ]
  },
  {
   "cell_type": "code",
   "execution_count": 48,
   "metadata": {},
   "outputs": [],
   "source": [
    "rf_coef_lst = list(zip(list(vectorizer.get_feature_names_out()), \n",
    "                       clf.feature_importances_))\n",
    "rf_coef_lst = sorted(rf_coef_lst, key=lambda x: -x[1])\n"
   ]
  },
  {
   "cell_type": "code",
   "execution_count": 50,
   "metadata": {},
   "outputs": [
    {
     "data": {
      "text/plain": [
       "[('12', 0.024919001322369905),\n",
       " ('nc', 0.015630447222842573),\n",
       " ('rate', 0.014734274917822112),\n",
       " ('gi', 0.014652811405912956),\n",
       " ('am', 0.01463327906597654),\n",
       " ('stitle', 0.014323173129562519),\n",
       " ('monitor', 0.01343912169498776),\n",
       " ('resp', 0.013107519556953037),\n",
       " ('dose', 0.012974888473933336),\n",
       " ('patent', 0.01221652256933256),\n",
       " ('thick', 0.012116014843212538),\n",
       " ('bases', 0.012065269342883619),\n",
       " ('dr', 0.011823712815035789),\n",
       " ('hr', 0.011622559024537694),\n",
       " ('lungs', 0.01092438117325458),\n",
       " ('intact', 0.010727266957251175),\n",
       " ('sats', 0.010524633210947364),\n",
       " ('ls', 0.01009731559815544),\n",
       " ('diminished', 0.009911666998090228),\n",
       " ('via', 0.009601658994005325)]"
      ]
     },
     "execution_count": 50,
     "metadata": {},
     "output_type": "execute_result"
    }
   ],
   "source": [
    "rf_coef_lst[:20]"
   ]
  },
  {
   "cell_type": "markdown",
   "metadata": {},
   "source": [
    "### Regression (APSIII)"
   ]
  },
  {
   "cell_type": "code",
   "execution_count": 51,
   "metadata": {},
   "outputs": [],
   "source": [
    "vectorizer = CountVectorizer()\n",
    "X = vectorizer.fit_transform(df['TEXT'])\n",
    "y = df['apsiii']\n",
    "r = 1*(df['ETHNICITY']=='BLACK')\n",
    "\n",
    "# scaler = StandardScaler(with_mean=False)\n",
    "# X = scaler.fit_transform(X)\n",
    "\n",
    "X_train, X_test, y_train, y_test, r_train, r_test = train_test_split(X, y, r, \n",
    "                                                                     test_size=0.2, \n",
    "                                                                     random_state=42)"
   ]
  },
  {
   "cell_type": "code",
   "execution_count": 58,
   "metadata": {},
   "outputs": [],
   "source": [
    "import random"
   ]
  },
  {
   "cell_type": "code",
   "execution_count": 69,
   "metadata": {},
   "outputs": [],
   "source": [
    "idx = random.sample(range(X_train.shape[0]), X_train.shape[0]//10)"
   ]
  },
  {
   "cell_type": "code",
   "execution_count": null,
   "metadata": {},
   "outputs": [],
   "source": [
    "reg = LinearRegression().fit(X_train[idx], np.array(y_train)[idx])"
   ]
  },
  {
   "cell_type": "code",
   "execution_count": null,
   "metadata": {},
   "outputs": [
    {
     "name": "stdout",
     "output_type": "stream",
     "text": [
      "Train MSE: 167.74819976462678\n",
      "Test MSE: 360.5120580410933\n"
     ]
    }
   ],
   "source": [
    "# Train MSE: 167.74819976462678\n",
    "# Test MSE:  360.5120580410933\n",
    "print(f\"Train MSE: {mean_squared_error(reg.predict(X_train), y_train)}\")\n",
    "print(f\"Test MSE: {mean_squared_error(reg.predict(X_test), y_test)}\")"
   ]
  },
  {
   "cell_type": "code",
   "execution_count": null,
   "metadata": {},
   "outputs": [
    {
     "name": "stdout",
     "output_type": "stream",
     "text": [
      "MSE 1: 147.49089812367117, Acc 0: 170.77714066513687, Acc Avg: 159.13401939440402\n",
      "Avg. Deviation 1: -0.7082664754667595 ± 12.123912599627277\n",
      "Avg. Deviation 0: 0.10590242145592403 ± 13.067743697450856\n"
     ]
    }
   ],
   "source": [
    "# MSE 1: 147.49089812367117, Acc 0: 170.77714066513687, Acc Avg: 159.13401939440402\n",
    "# Avg. Deviation 1: -0.7082664754667595 ± 12.123912599627277\n",
    "# Avg. Deviation 0: 0.10590242145592403 ± 13.067743697450856\n",
    "mse_balanced(reg.predict(X_train), y_train, r_train)"
   ]
  },
  {
   "cell_type": "code",
   "execution_count": null,
   "metadata": {},
   "outputs": [
    {
     "name": "stdout",
     "output_type": "stream",
     "text": [
      "MSE 1: 330.95810368059006, Acc 0: 364.90470213736575, Acc Avg: 347.93140290897793\n",
      "Avg. Deviation 1: -1.1453378946427526 ± 18.156164374329876\n",
      "Avg. Deviation 0: 0.13663823751172163 ± 19.101990266184707\n"
     ]
    }
   ],
   "source": [
    "# MSE 1: 330.95810368059006, Acc 0: 364.90470213736575, Acc Avg: 347.93140290897793\n",
    "# Avg. Deviation 1: -1.1453378946427526 ± 18.156164374329876\n",
    "# Avg. Deviation 0: 0.13663823751172163 ± 19.101990266184707\n",
    "mse_balanced(reg.predict(X_test), y_test, r_test)"
   ]
  },
  {
   "cell_type": "code",
   "execution_count": null,
   "metadata": {},
   "outputs": [],
   "source": [
    "linearreg_coef_lst = list(zip(list(vectorizer.get_feature_names_out()), \n",
    "                       reg.coef_))\n",
    "linearreg_coef_lst = sorted(linearreg_coef_lst, key=lambda x: -x[1])\n"
   ]
  },
  {
   "cell_type": "code",
   "execution_count": null,
   "metadata": {},
   "outputs": [],
   "source": [
    "linearreg_coef_lst[:20]"
   ]
  },
  {
   "cell_type": "code",
   "execution_count": null,
   "metadata": {},
   "outputs": [],
   "source": [
    "linearreg_coef_lst[-20:]"
   ]
  },
  {
   "cell_type": "code",
   "execution_count": null,
   "metadata": {},
   "outputs": [
    {
     "data": {
      "text/html": [
       "<style>#sk-container-id-1 {color: black;background-color: white;}#sk-container-id-1 pre{padding: 0;}#sk-container-id-1 div.sk-toggleable {background-color: white;}#sk-container-id-1 label.sk-toggleable__label {cursor: pointer;display: block;width: 100%;margin-bottom: 0;padding: 0.3em;box-sizing: border-box;text-align: center;}#sk-container-id-1 label.sk-toggleable__label-arrow:before {content: \"▸\";float: left;margin-right: 0.25em;color: #696969;}#sk-container-id-1 label.sk-toggleable__label-arrow:hover:before {color: black;}#sk-container-id-1 div.sk-estimator:hover label.sk-toggleable__label-arrow:before {color: black;}#sk-container-id-1 div.sk-toggleable__content {max-height: 0;max-width: 0;overflow: hidden;text-align: left;background-color: #f0f8ff;}#sk-container-id-1 div.sk-toggleable__content pre {margin: 0.2em;color: black;border-radius: 0.25em;background-color: #f0f8ff;}#sk-container-id-1 input.sk-toggleable__control:checked~div.sk-toggleable__content {max-height: 200px;max-width: 100%;overflow: auto;}#sk-container-id-1 input.sk-toggleable__control:checked~label.sk-toggleable__label-arrow:before {content: \"▾\";}#sk-container-id-1 div.sk-estimator input.sk-toggleable__control:checked~label.sk-toggleable__label {background-color: #d4ebff;}#sk-container-id-1 div.sk-label input.sk-toggleable__control:checked~label.sk-toggleable__label {background-color: #d4ebff;}#sk-container-id-1 input.sk-hidden--visually {border: 0;clip: rect(1px 1px 1px 1px);clip: rect(1px, 1px, 1px, 1px);height: 1px;margin: -1px;overflow: hidden;padding: 0;position: absolute;width: 1px;}#sk-container-id-1 div.sk-estimator {font-family: monospace;background-color: #f0f8ff;border: 1px dotted black;border-radius: 0.25em;box-sizing: border-box;margin-bottom: 0.5em;}#sk-container-id-1 div.sk-estimator:hover {background-color: #d4ebff;}#sk-container-id-1 div.sk-parallel-item::after {content: \"\";width: 100%;border-bottom: 1px solid gray;flex-grow: 1;}#sk-container-id-1 div.sk-label:hover label.sk-toggleable__label {background-color: #d4ebff;}#sk-container-id-1 div.sk-serial::before {content: \"\";position: absolute;border-left: 1px solid gray;box-sizing: border-box;top: 0;bottom: 0;left: 50%;z-index: 0;}#sk-container-id-1 div.sk-serial {display: flex;flex-direction: column;align-items: center;background-color: white;padding-right: 0.2em;padding-left: 0.2em;position: relative;}#sk-container-id-1 div.sk-item {position: relative;z-index: 1;}#sk-container-id-1 div.sk-parallel {display: flex;align-items: stretch;justify-content: center;background-color: white;position: relative;}#sk-container-id-1 div.sk-item::before, #sk-container-id-1 div.sk-parallel-item::before {content: \"\";position: absolute;border-left: 1px solid gray;box-sizing: border-box;top: 0;bottom: 0;left: 50%;z-index: -1;}#sk-container-id-1 div.sk-parallel-item {display: flex;flex-direction: column;z-index: 1;position: relative;background-color: white;}#sk-container-id-1 div.sk-parallel-item:first-child::after {align-self: flex-end;width: 50%;}#sk-container-id-1 div.sk-parallel-item:last-child::after {align-self: flex-start;width: 50%;}#sk-container-id-1 div.sk-parallel-item:only-child::after {width: 0;}#sk-container-id-1 div.sk-dashed-wrapped {border: 1px dashed gray;margin: 0 0.4em 0.5em 0.4em;box-sizing: border-box;padding-bottom: 0.4em;background-color: white;}#sk-container-id-1 div.sk-label label {font-family: monospace;font-weight: bold;display: inline-block;line-height: 1.2em;}#sk-container-id-1 div.sk-label-container {text-align: center;}#sk-container-id-1 div.sk-container {/* jupyter's `normalize.less` sets `[hidden] { display: none; }` but bootstrap.min.css set `[hidden] { display: none !important; }` so we also need the `!important` here to be able to override the default hidden behavior on the sphinx rendered scikit-learn.org. See: https://github.com/scikit-learn/scikit-learn/issues/21755 */display: inline-block !important;position: relative;}#sk-container-id-1 div.sk-text-repr-fallback {display: none;}</style><div id=\"sk-container-id-1\" class=\"sk-top-container\"><div class=\"sk-text-repr-fallback\"><pre>RandomForestRegressor(max_depth=4, n_estimators=10, random_state=0)</pre><b>In a Jupyter environment, please rerun this cell to show the HTML representation or trust the notebook. <br />On GitHub, the HTML representation is unable to render, please try loading this page with nbviewer.org.</b></div><div class=\"sk-container\" hidden><div class=\"sk-item\"><div class=\"sk-estimator sk-toggleable\"><input class=\"sk-toggleable__control sk-hidden--visually\" id=\"sk-estimator-id-1\" type=\"checkbox\" checked><label for=\"sk-estimator-id-1\" class=\"sk-toggleable__label sk-toggleable__label-arrow\">RandomForestRegressor</label><div class=\"sk-toggleable__content\"><pre>RandomForestRegressor(max_depth=4, n_estimators=10, random_state=0)</pre></div></div></div></div></div>"
      ],
      "text/plain": [
       "RandomForestRegressor(max_depth=4, n_estimators=10, random_state=0)"
      ]
     },
     "execution_count": 6,
     "metadata": {},
     "output_type": "execute_result"
    }
   ],
   "source": [
    "reg = RandomForestRegressor(max_depth=4, n_estimators=50, random_state=0)\n",
    "reg.fit(X_train, y_train)"
   ]
  },
  {
   "cell_type": "code",
   "execution_count": null,
   "metadata": {},
   "outputs": [
    {
     "name": "stdout",
     "output_type": "stream",
     "text": [
      "Train MSE: 330.8376609887305\n",
      "Test MSE: 332.61579437026865\n"
     ]
    }
   ],
   "source": [
    "# Train MSE: 330.8376609887305\n",
    "# Test MSE: 332.61579437026865\n",
    "print(f\"Train MSE: {mean_squared_error(reg.predict(X_train), y_train)}\")\n",
    "print(f\"Test MSE: {mean_squared_error(reg.predict(X_test), y_test)}\")"
   ]
  },
  {
   "cell_type": "code",
   "execution_count": null,
   "metadata": {},
   "outputs": [
    {
     "name": "stdout",
     "output_type": "stream",
     "text": [
      "MSE 1: 300.8333949524116, Acc 0: 335.3240012821214, Acc Avg: 318.0786981172665\n",
      "Avg. Deviation 1: -1.2538477642888646 ± 17.299169365504213\n",
      "Avg. Deviation 0: 0.1856462586975391 ± 18.310913050657877\n"
     ]
    }
   ],
   "source": [
    "# MSE 1: 300.8333949524116, Acc 0: 335.3240012821214, Acc Avg: 318.0786981172665\n",
    "# Avg. Deviation 1: -1.2538477642888646 ± 17.299169365504213\n",
    "# Avg. Deviation 0: 0.1856462586975391 ± 18.310913050657877\n",
    "mse_balanced(reg.predict(X_train), y_train, r_train)"
   ]
  },
  {
   "cell_type": "code",
   "execution_count": null,
   "metadata": {},
   "outputs": [
    {
     "name": "stdout",
     "output_type": "stream",
     "text": [
      "MSE 1: 300.4668771565827, Acc 0: 337.3941312952583, Acc Avg: 318.9305042259205\n",
      "Avg. Deviation 1: -1.4347986065554001 ± 17.27449652277048\n",
      "Avg. Deviation 0: 0.1883365672714545 ± 18.36732589770995\n"
     ]
    }
   ],
   "source": [
    "# MSE 1: 300.4668771565827, Acc 0: 337.3941312952583, Acc Avg: 318.9305042259205\n",
    "# Avg. Deviation 1: -1.4347986065554001 ± 17.27449652277048\n",
    "# Avg. Deviation 0: 0.1883365672714545 ± 18.36732589770995\n",
    "mse_balanced(reg.predict(X_test), y_test, r_test)"
   ]
  },
  {
   "cell_type": "code",
   "execution_count": null,
   "metadata": {},
   "outputs": [],
   "source": []
  },
  {
   "cell_type": "code",
   "execution_count": null,
   "metadata": {},
   "outputs": [],
   "source": []
  },
  {
   "cell_type": "code",
   "execution_count": null,
   "metadata": {},
   "outputs": [],
   "source": []
  },
  {
   "cell_type": "code",
   "execution_count": null,
   "metadata": {},
   "outputs": [],
   "source": []
  },
  {
   "cell_type": "markdown",
   "metadata": {},
   "source": [
    "### De-racifying notes (using all notes)\n"
   ]
  },
  {
   "cell_type": "code",
   "execution_count": null,
   "metadata": {},
   "outputs": [],
   "source": []
  },
  {
   "cell_type": "code",
   "execution_count": null,
   "metadata": {},
   "outputs": [],
   "source": []
  },
  {
   "cell_type": "markdown",
   "metadata": {},
   "source": [
    "### Application to subset of data\n",
    "    - Only keep each patient's first nursing note\n",
    "    df_nte = df_nte.sort_values(by=['SUBJECT_ID','HADM_ID','CHARTDATE'])\\\n",
    "                .groupby(['SUBJECT_ID','HADM_ID'])\\\n",
    "                .head(1)\n",
    "    - Test on pneumonia and fever datasets\n",
    "        "
   ]
  },
  {
   "cell_type": "code",
   "execution_count": null,
   "metadata": {},
   "outputs": [],
   "source": [
    "PNEUMONIA_KEYS = ['PNEUMONIA','PMEUMONIA','PNEUMOMIA',\n",
    "                  'PNEUMONI','PNAUMONIA','PNEMONIA',\n",
    "                  'PNEUMNOIA','PNEUMONIN','PNEUMONNIA']\n",
    "FEVER_KEYS = ['FEVER','FEER']"
   ]
  },
  {
   "cell_type": "code",
   "execution_count": null,
   "metadata": {},
   "outputs": [],
   "source": [
    "df.loc[df['DIAGNOSIS'].apply(lambda s: any([k in s for k in PNEUMONIA_KEYS]))]"
   ]
  },
  {
   "cell_type": "code",
   "execution_count": null,
   "metadata": {},
   "outputs": [],
   "source": [
    "df.loc[df['DIAGNOSIS'].apply(lambda s: any([k in s for k in FEVER_KEYS]))]"
   ]
  },
  {
   "cell_type": "code",
   "execution_count": null,
   "metadata": {},
   "outputs": [],
   "source": []
  }
 ],
 "metadata": {
  "kernelspec": {
   "display_name": "Python 3.9.5 ('base': conda)",
   "language": "python",
   "name": "python3"
  },
  "language_info": {
   "codemirror_mode": {
    "name": "ipython",
    "version": 3
   },
   "file_extension": ".py",
   "mimetype": "text/x-python",
   "name": "python",
   "nbconvert_exporter": "python",
   "pygments_lexer": "ipython3",
   "version": "3.9.5"
  },
  "orig_nbformat": 4,
  "vscode": {
   "interpreter": {
    "hash": "0d78cf5354c54536ee2fe2974b55665bb4fd5d446126f0c5d0792c4750b1da66"
   }
  }
 },
 "nbformat": 4,
 "nbformat_minor": 2
}
